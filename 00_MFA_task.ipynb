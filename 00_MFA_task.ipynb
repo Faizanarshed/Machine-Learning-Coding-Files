{
 "cells": [
  {
   "cell_type": "code",
   "execution_count": null,
   "metadata": {},
   "outputs": [],
   "source": []
  },
  {
   "cell_type": "markdown",
   "metadata": {},
   "source": [
    "# Participants\n",
    "\n",
    "Title = \"Scholar\"\n",
    "\n",
    "Name = \"Muhammad Faizan Arshad\"\n",
    "\n",
    "Email = \"faizanarshad124@gmail.com\"\n",
    "\n",
    "Whatsapp = \"+923205501341\"\n",
    "\n"
   ]
  }
 ],
 "metadata": {
  "interpreter": {
   "hash": "aee8b7b246df8f9039afb4144a1f6fd8d2ca17a180786b69acc140d282b71a49"
  },
  "kernelspec": {
   "display_name": "Python 3.8.5 64-bit",
   "language": "python",
   "name": "python3"
  },
  "language_info": {
   "name": "python",
   "version": "3.8.5"
  },
  "orig_nbformat": 4
 },
 "nbformat": 4,
 "nbformat_minor": 2
}
